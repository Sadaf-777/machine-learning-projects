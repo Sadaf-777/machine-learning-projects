{
 "cells": [
  {
   "cell_type": "code",
   "execution_count": null,
   "id": "82880bca",
   "metadata": {},
   "outputs": [],
   "source": [
    "# Load all of the libraries used for this notebook \n",
    "import pandas as pd\n",
    "import numpy as np\n",
    "import matplotlib.pyplot as plt\n",
    "import seaborn as sns\n",
    "\n",
    "# Load in the data\n",
    "df = pd.read_csv(‪\"C:/Users/Admin/Desktop/winequality-red.csv\")\n",
    "\n",
    "# inspect the first few rows of the data\n",
    "df.head()"
   ]
  },
  {
   "cell_type": "code",
   "execution_count": null,
   "id": "78a3f00b",
   "metadata": {},
   "outputs": [],
   "source": [
    "# Convert quality to 1 if >= 7, else 0.\n",
    "df['quality'] =(df['quality']>= 7).astype(int)  \n",
    "    "
   ]
  },
  {
   "cell_type": "code",
   "execution_count": null,
   "id": "d214557f",
   "metadata": {},
   "outputs": [],
   "source": [
    "df.info()"
   ]
  },
  {
   "cell_type": "code",
   "execution_count": null,
   "id": "b3b3059b",
   "metadata": {},
   "outputs": [],
   "source": [
    "df['quality'].value_counts()"
   ]
  },
  {
   "cell_type": "code",
   "execution_count": null,
   "id": "10a2220b",
   "metadata": {},
   "outputs": [],
   "source": [
    "sns.pairplot(df, hue='quality')"
   ]
  },
  {
   "cell_type": "code",
   "execution_count": null,
   "id": "52651db8",
   "metadata": {},
   "outputs": [],
   "source": [
    "df['quality'].replace({1:'Good', 0:'Bad'}, inplace= True)"
   ]
  },
  {
   "cell_type": "code",
   "execution_count": null,
   "id": "d070952c",
   "metadata": {},
   "outputs": [],
   "source": [
    "sns.boxplot(data=df, y='fixed acidity', x='quality')"
   ]
  },
  {
   "cell_type": "code",
   "execution_count": null,
   "id": "cb431900",
   "metadata": {},
   "outputs": [],
   "source": [
    "sns.boxplot(data=df, y= 'volatile acidity', x='quality')"
   ]
  },
  {
   "cell_type": "code",
   "execution_count": null,
   "id": "ea9df6bb",
   "metadata": {},
   "outputs": [],
   "source": [
    "sns.boxplot(data=df, y= 'citric acid', x='quality')"
   ]
  },
  {
   "cell_type": "code",
   "execution_count": null,
   "id": "0ae266c5",
   "metadata": {},
   "outputs": [],
   "source": [
    "sns.boxplot(data=df, y= 'residual sugar', x='quality')"
   ]
  },
  {
   "cell_type": "code",
   "execution_count": null,
   "id": "c030fb80",
   "metadata": {},
   "outputs": [],
   "source": [
    "sns.boxplot(data=df, y='chlorides', x='quality')"
   ]
  },
  {
   "cell_type": "code",
   "execution_count": null,
   "id": "0ee2560f",
   "metadata": {},
   "outputs": [],
   "source": [
    "sns.boxplot(data=df, y= 'free sulfur dioxide', x='quality')"
   ]
  },
  {
   "cell_type": "code",
   "execution_count": null,
   "id": "e707023a",
   "metadata": {},
   "outputs": [],
   "source": [
    "# Import libraries and tools\n",
    "from sklearn.model_selection import train_test_split\n",
    "from sklearn.metrics import classification_report, confusion_matrix, roc_curve, roc_auc_score\n",
    "from sklearn.ensemble import RandomForestClassifier\n",
    "from sklearn.preprocessing import StandardScaler\n",
    "from sklearn.svm import SVC"
   ]
  },
  {
   "cell_type": "code",
   "execution_count": null,
   "id": "f559a23f",
   "metadata": {},
   "outputs": [],
   "source": [
    "# Separate target from features\n",
    "X = df.drop(['quality'], axis=1)\n",
    "y = df['quality']\n",
    "\n",
    "# Create an Instance of Standard Scale\n",
    "sc = StandardScaler()\n",
    "\n",
    "# Scale The data\n",
    "X = sc.fit_transform(X)\n",
    "\n",
    "# Break data up into testing and training sets\n",
    "X_train, X_test, y_train, y_test = train_test_split(X, y, test_size=0.30, random_state=101)"
   ]
  },
  {
   "cell_type": "code",
   "execution_count": null,
   "id": "6f8b7b5a",
   "metadata": {},
   "outputs": [],
   "source": [
    "# Create Instance of Support Vector Classification and fit the data\n",
    "svc = SVC(probability=True).fit(X_res, y_res)\n",
    "\n",
    "#  Create Predictions\n",
    "svc_predictions = svc.predict(X_test)\n",
    "\n",
    "# Print out Confusion Matrix and Classification Report\n",
    "print(confusion_matrix(y_test,svc_predictions))\n",
    "print('\\n')\n",
    "print(classification_report(y_test,svc_predictions))"
   ]
  }
 ],
 "metadata": {
  "kernelspec": {
   "display_name": "Python 3",
   "language": "python",
   "name": "python3"
  },
  "language_info": {
   "codemirror_mode": {
    "name": "ipython",
    "version": 3
   },
   "file_extension": ".py",
   "mimetype": "text/x-python",
   "name": "python",
   "nbconvert_exporter": "python",
   "pygments_lexer": "ipython3",
   "version": "3.8.8"
  }
 },
 "nbformat": 4,
 "nbformat_minor": 5
}
